{
 "cells": [
  {
   "cell_type": "code",
   "execution_count": 19,
   "metadata": {},
   "outputs": [
    {
     "name": "stdout",
     "output_type": "stream",
     "text": [
      "Results of the Election\n",
      "Total Votes: 3521001\n",
      "Khan: 63.0% (2218231)\n",
      "Correy: 20.0% (704200)\n",
      "Li: 14.0% (492940)\n",
      "O'Tooley: 3.0% (105630)\n",
      "Winner: Khan\n"
     ]
    },
    {
     "data": {
      "text/plain": [
       "13"
      ]
     },
     "execution_count": 19,
     "metadata": {},
     "output_type": "execute_result"
    }
   ],
   "source": [
    "import os\n",
    "import csv\n",
    "\n",
    "DataFile = os.path.join('election_data.csv')\n",
    "\n",
    "Winner = \"\"\n",
    "Candidates = {}\n",
    "WinnerCount = 0\n",
    "VoteCount = 0\n",
    "CandidatePercent = {}\n",
    "\n",
    "\n",
    "with open(DataFile, newline = \"\") as csvfile:\n",
    "    CSVreader = csv.reader(csvfile, delimiter = \",\")\n",
    "    next(CSVreader, None)\n",
    "\n",
    "\n",
    "    for row in CSVreader:\n",
    "        VoteCount += 1\n",
    "        if row[2] in Candidates.keys():\n",
    "            Candidates[row[2]] += 1\n",
    "        else:\n",
    "            Candidates[row[2]] = 1\n",
    "\n",
    "for key, value in Candidates.items():\n",
    "    CandidatePercent[key] = round((value/VoteCount) * 100, 2)\n",
    "\n",
    "for key in Candidates.keys():\n",
    "    if Candidates[key] > WinnerCount:\n",
    "        Winner = key\n",
    "        WinnerCount = Candidates[key]\n",
    "\n",
    "\n",
    "print(\"Results of the Election\")\n",
    "print(\"Total Votes: \" + str(VoteCount))\n",
    "for key, value in Candidates.items():\n",
    "    print(key + \": \" + str(CandidatePercent[key]) + \"% (\" + str(value) + \")\")\n",
    "print(\"Winner: \" + Winner)\n",
    "\n",
    "\n",
    "new_file = open(\"output_file.txt\", \"w\")\n",
    "\n",
    "new_file.write(\"Election Results \\n\")\n",
    "new_file.write(\"Total Votes: \" + str(VoteCount) + \"\\n\")\n",
    "for key, value in Candidates.items():\n",
    "    new_file.write(key + \": \" + str(CandidatePercent[key]) + \"% (\" + str(value) + \") \\n\")\n",
    "new_file.write(\"Winner: \" + Winner + \"\\n\")"
   ]
  },
  {
   "cell_type": "code",
   "execution_count": 5,
   "metadata": {},
   "outputs": [],
   "source": []
  },
  {
   "cell_type": "code",
   "execution_count": null,
   "metadata": {},
   "outputs": [],
   "source": []
  }
 ],
 "metadata": {
  "kernelspec": {
   "display_name": "Python 3",
   "language": "python",
   "name": "python3"
  },
  "language_info": {
   "name": ""
  }
 },
 "nbformat": 4,
 "nbformat_minor": 2
}
